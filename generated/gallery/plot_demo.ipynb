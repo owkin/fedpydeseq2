{
  "cells": [
    {
      "cell_type": "code",
      "execution_count": null,
      "metadata": {
        "collapsed": false
      },
      "outputs": [],
      "source": [
        "%matplotlib inline"
      ]
    },
    {
      "cell_type": "markdown",
      "metadata": {},
      "source": [
        "FedPyDESeq2 demo on the TCGA-LUAD dataset.\n\nThis example demonstrates how to run a FedPyDESeq2 experiment on the TCGA-LUAD dataset\nfrom a single machine, using Substra's simulation mode.\n\nWe will show how to perform a simple differential expression analysis, comparing samples\nwith `\"Advanced\"` vs `\"Non-advanced\"` tumoral `stage`.\n"
      ]
    },
    {
      "cell_type": "code",
      "execution_count": null,
      "metadata": {
        "collapsed": false
      },
      "outputs": [],
      "source": [
        "from pathlib import Path\n\nimport pandas as pd\nfrom fedpydeseq2_datasets.process_and_split_data import setup_tcga_dataset\nfrom IPython.display import display\n\nfrom fedpydeseq2.fedpydeseq2_pipeline import run_fedpydeseq2_experiment"
      ]
    },
    {
      "cell_type": "markdown",
      "metadata": {},
      "source": [
        "## Dataset setup\n\nIn a real federated setup, the data is distributed across multiple medical centers\nand must be registered with Substra beforehand. Hence, each center would have a folder\ncontaining two csvs (one fore the counts and one for the metadata), as well as an\nopener python file and a markdown readme file (see\n[Substra's documentation](https://docs.substra.org/en/stable/documentation/concepts.html#assets)\non how to register a datasample).\nThen, we would only need pass the `dataset_datasample_keys path`.\n\nIn this tutorial, however, we use FedPyDESeq2's simulation mode, which\nallows us to emulate a federated setup from a single machine.\n\nThe simulation mode assumes the data to be organized in the following structure:\n\n```\nprocessed_data_path/\n\u251c\u2500\u2500 centers_data/\n\u2502   \u2514\u2500\u2500 tcga/\n\u2502       \u2514\u2500\u2500 {experiment_id}/\n\u2502           \u251c\u2500\u2500 center_0/\n\u2502           \u2502   \u251c\u2500\u2500 counts.csv\n\u2502           \u2502   \u2514\u2500\u2500 metadata.csv\n\u2502           \u251c\u2500\u2500 center_1/\n\u2502           \u2502   \u251c\u2500\u2500 counts.csv\n\u2502           \u2502   \u2514\u2500\u2500 metadata.csv\n\u2502           \u2514\u2500\u2500 ...\n\u2514\u2500\u2500 pooled_data/\n    \u2514\u2500\u2500 tcga/\n        \u2514\u2500\u2500 {experiment_id}/\n            \u251c\u2500\u2500 counts.csv\n            \u2514\u2500\u2500 metadata.csv\n```\n\nIn this tutorial, we have already downloaded the data in the `data/raw` directory.\n\nThe `setup_tcga_dataset` function from `fedpydeseq2_datasets` will automatically\norganize the data in the `data/processed` directory.\n\nIt will split the TCGA-LUAD dataset into 7 centers according to the geographical\norigin of the samples, as described in the\n[FedPyDESeq2 paper](https://www.biorxiv.org/content/10.1101/2024.12.06.627138v1).\n\nSee also the [`fedpydeseq2_datasets`](https://github.com/owkin/fedpydeseq2-datasets)\nrepository for more details.\n\n"
      ]
    },
    {
      "cell_type": "code",
      "execution_count": null,
      "metadata": {
        "collapsed": false
      },
      "outputs": [],
      "source": [
        "dataset_name = \"TCGA-LUAD\"\nraw_data_path = Path(\"data/raw\").resolve()\nprocessed_data_path = Path(\"data/processed\").resolve()\ndesign_factors = \"stage\"\n\nsetup_tcga_dataset(\n    raw_data_path,\n    processed_data_path,\n    dataset_name=dataset_name,\n    small_samples=False,\n    small_genes=False,\n    only_two_centers=False,\n    design_factors=design_factors,\n    force=True,\n)\n\nexperiment_id = \"TCGA-LUAD-stage\""
      ]
    },
    {
      "cell_type": "markdown",
      "metadata": {},
      "source": [
        "## Running the experiment\n\nWe can now run the experiment.\n\n[Substra](https://github.com/substra), the FL framework on which FedPyDESeq2 is built,\nsupports a simulated mode which may be run locally from a single machine, which we\nwill use here.\n\nLet's run our FedPyDESeq2 experiment. This may be done using the\n`run_fedpydeseq2_experiment` wrapper function, which takes the following parameters:\n\n* `n_centers=7`: Our data is distributed across 7 different medical centers\n\n* `backend=\"subprocess\"` and `simulate=True`: We'll run the analysis locally on our\n  machine to simulate a federated setup, rather than in a real distributed environment\n\n* `register_data=True`: We'll register our dataset with Substra before analysis.\n  In the case of a real federated setup, this would be set to `False` if data was\n  already registered by Substra.\n\n* `asset_directory`: This directory should contain an opener.py file, containing an\n  Opener class, and datasets.description.md file. Here, we copy them from\n  [`fedpydeseq2_datasets/assets/tcga`](https://github.com/owkin/fedpydeseq2-datasets/tree/main/fedpydeseq2_datasets/assets/tcga)\n\n* `centers_root_directory`: Where the processed data for each center is stored\n\n* `compute_plan_name`: We'll call this analysis \"Example-TCGA-LUAD-pipeline\"\n  in Substra\n\n* `dataset_name`: We're working with the TCGA-LUAD lung cancer dataset\n\n* `design_factors`: This should be a list of the design factors we wish to include in\n  our analysis. Here, we're studying how \"stage\" (the cancer stage) affects gene\n  expression\n\n* `ref_levels`: We're setting \"Non-advanced\" as our baseline cancer stage\n\n* `contrast`: This should be a list of three strings, of the form\n `[\"factor\", \"alternative_level\", \"baseline_level\"]`. To compare gene expression\n  between \"Advanced\" vs \"Non-advanced\" stages, we set\n `contrast=[\"stage\", \"Advanced\", \"Non-advanced\"]`.\n\n* `refit_cooks=True`: After finding outliers using Cook's distance, we'll refit the\n  model without them for more robust results\n\n"
      ]
    },
    {
      "cell_type": "code",
      "execution_count": null,
      "metadata": {
        "collapsed": false
      },
      "outputs": [],
      "source": [
        "fl_results = run_fedpydeseq2_experiment(\n    n_centers=7,\n    backend=\"subprocess\",\n    simulate=True,\n    register_data=True,\n    asset_directory=Path(\"assets/tcga\").resolve(),\n    centers_root_directory=processed_data_path\n    / \"centers_data\"\n    / \"tcga\"\n    / experiment_id,\n    compute_plan_name=\"Example-TCGA-LUAD-pipeline\",\n    dataset_name=\"TCGA-LUAD\",\n    design_factors=\"stage\",\n    ref_levels={\"stage\": \"Non-advanced\"},\n    contrast=[\"stage\", \"Advanced\", \"Non-advanced\"],\n    refit_cooks=True,\n)"
      ]
    },
    {
      "cell_type": "markdown",
      "metadata": {},
      "source": [
        "## Results\nThe results are then stored in a `fl_results` dictionary, which does not contain any\nindividual sample information.\n\n"
      ]
    },
    {
      "cell_type": "code",
      "execution_count": null,
      "metadata": {
        "collapsed": false
      },
      "outputs": [],
      "source": [
        "fl_results.keys()"
      ]
    },
    {
      "cell_type": "markdown",
      "metadata": {},
      "source": [
        "We can then extract the results for our contrast of interest, and store them in a\npandas DataFrame.\n\n"
      ]
    },
    {
      "cell_type": "code",
      "execution_count": null,
      "metadata": {
        "collapsed": false
      },
      "outputs": [],
      "source": [
        "res_df = pd.DataFrame()\nres_df[\"LFC\"] = fl_results[\"LFC\"][\"stage_Advanced_vs_Non-advanced\"]\nres_df[\"pvalue\"] = fl_results[\"p_values\"]\nres_df[\"padj\"] = fl_results[\"padj\"]\n\nres_df = res_df.loc[fl_results[\"non_zero\"], :]"
      ]
    },
    {
      "cell_type": "code",
      "execution_count": null,
      "metadata": {
        "collapsed": false
      },
      "outputs": [],
      "source": [
        "display(res_df)"
      ]
    }
  ],
  "metadata": {
    "kernelspec": {
      "display_name": "Python 3",
      "language": "python",
      "name": "python3"
    },
    "language_info": {
      "codemirror_mode": {
        "name": "ipython",
        "version": 3
      },
      "file_extension": ".py",
      "mimetype": "text/x-python",
      "name": "python",
      "nbconvert_exporter": "python",
      "pygments_lexer": "ipython3",
      "version": "3.11.13"
    }
  },
  "nbformat": 4,
  "nbformat_minor": 0
}